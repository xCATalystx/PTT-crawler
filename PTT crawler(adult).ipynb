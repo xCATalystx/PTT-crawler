{
 "cells": [
  {
   "cell_type": "code",
   "execution_count": null,
   "metadata": {},
   "outputs": [],
   "source": [
    "from bs4 import BeautifulSoup\n",
    "import requests\n",
    "\n",
    "#要搜尋的批踢踢版的 url\n",
    "put = input()\n",
    "http = \"https://www.ptt.cc/bbs/\"+put+\"/index.html\"\n",
    "\n",
    "#post已滿18歲\n",
    "post = {\n",
    "\"from\":\"/bbs/\"+put+\"/index.html\",\n",
    "\"yes\":\"yes\"\n",
    "}\n",
    "\n",
    "rs = requests.session()\n",
    "html = rs.post(\"https://www.ptt.cc/ask/over18\", data= post)\n",
    "res = rs.get(http)\n",
    "soup = BeautifulSoup(res.text,'html.parser')\n",
    "\n",
    "for entry in soup.select('.r-ent'):\n",
    "    print(\n",
    "          \"人氣：\"+entry.select('.nrec')[0].text,\n",
    "          entry.select('.title')[0].text,\n",
    "          entry.select('.date')[0].text,\n",
    "          entry.select('.author')[0].text\n",
    "         )"
   ]
  }
 ],
 "metadata": {
  "kernelspec": {
   "display_name": "Python 3",
   "language": "python",
   "name": "python3"
  },
  "language_info": {
   "codemirror_mode": {
    "name": "ipython",
    "version": 3
   },
   "file_extension": ".py",
   "mimetype": "text/x-python",
   "name": "python",
   "nbconvert_exporter": "python",
   "pygments_lexer": "ipython3",
   "version": "3.8.5"
  }
 },
 "nbformat": 4,
 "nbformat_minor": 2
}
