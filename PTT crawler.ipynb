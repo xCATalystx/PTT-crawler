{
 "cells": [
  {
   "cell_type": "code",
   "execution_count": null,
   "metadata": {},
   "outputs": [],
   "source": [
    "from bs4 import BeautifulSoup\n",
    "import requests\n",
    "\n",
    "put = input()\n",
    "http = \"https://www.ptt.cc/bbs/\"+put+\"/index.html\"\n",
    "\n",
    "post = {\n",
    "\"from\":\"/bbs/\"+put+\"/index.html\",\n",
    "\"yes\":\"yes\"\n",
    "}\n",
    "\n",
    "rs = requests.session()\n",
    "html = rs.post(\"https://www.ptt.cc/ask/over18\", data= post)\n",
    "res = rs.get(http)\n",
    "soup = BeautifulSoup(res.text,'html.parser')\n",
    "\n",
    "for entry in soup.select('.r-ent'):\n",
    "    print(entry.select('.nrec')[0].text, entry.select('.title')[0].text, entry.select('.date')[0].text, entry.select('.author')[0].text)\n",
    "    \n",
    "    hot = [entry.select('.nrec')[0].text]\n",
    "    title = [entry.select('.title')[0].text]\n",
    "    date = [entry.select('.date')[0].text]\n",
    "    author= [entry.select('.author')[0].text]\n",
    "\n",
    "import xlwings as xw\n",
    "import xlsxwriter\n",
    "\n",
    "outWorkbook = xlsxwriter.Workbook(\"PTT.xlsx\")\n",
    "outSheet = outWorkbook.add_worksheet(put)\n",
    "\n",
    "outSheet.write(\"A1\", \"人氣\")\n",
    "outSheet.write(\"B1\", \"標題\")\n",
    "outSheet.write(\"C1\", \"日期\")\n",
    "outSheet.write(\"D1\", \"作者\")\n",
    "\n",
    "for item in range(len(hot)):\n",
    "    outSheet.write(item+1, 0, hot[item])\n",
    "    outSheet.write(item+1, 1, title[item])\n",
    "    outSheet.write(item+1, 2, date[item])\n",
    "    outSheet.write(item+1, 3, author[item])\n",
    "    \n",
    "outWorkbook.close()"
   ]
  },
  {
   "cell_type": "code",
   "execution_count": null,
   "metadata": {},
   "outputs": [],
   "source": []
  },
  {
   "cell_type": "code",
   "execution_count": null,
   "metadata": {},
   "outputs": [],
   "source": []
  },
  {
   "cell_type": "code",
   "execution_count": null,
   "metadata": {},
   "outputs": [],
   "source": []
  },
  {
   "cell_type": "code",
   "execution_count": null,
   "metadata": {},
   "outputs": [],
   "source": []
  }
 ],
 "metadata": {
  "kernelspec": {
   "display_name": "Python 3",
   "language": "python",
   "name": "python3"
  },
  "language_info": {
   "codemirror_mode": {
    "name": "ipython",
    "version": 3
   },
   "file_extension": ".py",
   "mimetype": "text/x-python",
   "name": "python",
   "nbconvert_exporter": "python",
   "pygments_lexer": "ipython3",
   "version": "3.8.5"
  }
 },
 "nbformat": 4,
 "nbformat_minor": 2
}
